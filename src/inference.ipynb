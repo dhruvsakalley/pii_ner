{
 "cells": [
  {
   "source": [
    "## Inference - PII NER\n",
    "\n",
    "Eval data provided needs to be tagged and exported into an excel file.\n",
    "Notes:\n",
    "- Apt. xxx patterns seem to be confused with plates, can be easily fixed by adding to training data\n",
    "- Some Phone_number labels are identified as Address, we might have imbalanced the classes by adding too much fake data, maybe next iteration reduce the volume of addresses or add some data for phone numbers."
   ],
   "cell_type": "markdown",
   "metadata": {}
  },
  {
   "cell_type": "code",
   "execution_count": 1,
   "id": "dried-wagner",
   "metadata": {},
   "outputs": [],
   "source": [
    "# imports\n",
    "import pandas as pd\n",
    "import numpy as np\n",
    "\n",
    "# local files\n",
    "import rules\n",
    "import preprocess\n",
    "import datagen\n",
    "\n",
    "from flair.data import Sentence\n",
    "from flair.models import SequenceTagger"
   ]
  },
  {
   "cell_type": "code",
   "execution_count": 2,
   "metadata": {},
   "outputs": [
    {
     "output_type": "stream",
     "name": "stdout",
     "text": [
      "2021-01-31 01:14:09,821 loading file ../model/taggers/pii-ner-v0/final-model.pt\n"
     ]
    }
   ],
   "source": [
    "# load the trained model\n",
    "model = SequenceTagger.load('../model/taggers/pii-ner-v0/final-model.pt')\n",
    "# load the rules engine\n",
    "engine = rules.RulesEngine()"
   ]
  },
  {
   "cell_type": "code",
   "execution_count": 3,
   "metadata": {},
   "outputs": [
    {
     "output_type": "execute_result",
     "data": {
      "text/plain": [
       "                                                Text  Label  PII\n",
       "0  Term although process suddenly parent. Poor go...    NaN  NaN\n",
       "1  356 Collins Highway New Kathleen, NM 10160 Rem...    NaN  NaN\n",
       "2  Appear job opportunity job. Piece 405 Callahan...    NaN  NaN\n",
       "3  During half leave simple west lose piece 859 D...    NaN  NaN\n",
       "4  Peace when Apt. 910 enter left speak agree. Le...    NaN  NaN"
      ],
      "text/html": "<div>\n<style scoped>\n    .dataframe tbody tr th:only-of-type {\n        vertical-align: middle;\n    }\n\n    .dataframe tbody tr th {\n        vertical-align: top;\n    }\n\n    .dataframe thead th {\n        text-align: right;\n    }\n</style>\n<table border=\"1\" class=\"dataframe\">\n  <thead>\n    <tr style=\"text-align: right;\">\n      <th></th>\n      <th>Text</th>\n      <th>Label</th>\n      <th>PII</th>\n    </tr>\n  </thead>\n  <tbody>\n    <tr>\n      <th>0</th>\n      <td>Term although process suddenly parent. Poor go...</td>\n      <td>NaN</td>\n      <td>NaN</td>\n    </tr>\n    <tr>\n      <th>1</th>\n      <td>356 Collins Highway New Kathleen, NM 10160 Rem...</td>\n      <td>NaN</td>\n      <td>NaN</td>\n    </tr>\n    <tr>\n      <th>2</th>\n      <td>Appear job opportunity job. Piece 405 Callahan...</td>\n      <td>NaN</td>\n      <td>NaN</td>\n    </tr>\n    <tr>\n      <th>3</th>\n      <td>During half leave simple west lose piece 859 D...</td>\n      <td>NaN</td>\n      <td>NaN</td>\n    </tr>\n    <tr>\n      <th>4</th>\n      <td>Peace when Apt. 910 enter left speak agree. Le...</td>\n      <td>NaN</td>\n      <td>NaN</td>\n    </tr>\n  </tbody>\n</table>\n</div>"
     },
     "metadata": {},
     "execution_count": 3
    }
   ],
   "source": [
    "# Load the eval data\n",
    "eval_data = pd.read_excel(\"../data/PII_Train_Large_Data_Test_Data.xlsx\",sheet_name=\"PII Test Data - PII Test Data\", skiprows=1, index_col=None, na_values=['NA'], usecols = \"A,B,C\")\n",
    "eval_data.head()"
   ]
  },
  {
   "cell_type": "code",
   "execution_count": 4,
   "metadata": {},
   "outputs": [
    {
     "output_type": "execute_result",
     "data": {
      "text/plain": [
       "{'Label': 'Address',\n",
       " 'PII': '640 Eddie Mission Apt. 272 New Kimberly, ME 38505'}"
      ]
     },
     "metadata": {},
     "execution_count": 4
    }
   ],
   "source": [
    "# Helper function for getting the predictions\n",
    "# This function can be made smarter by sorting entities by confidence (future)\n",
    "def get_predictions(text, rules_engine, model):\n",
    "    text = rules_engine.pin_text(text)\n",
    "    sentence = Sentence(text)\n",
    "    model.predict(sentence)\n",
    "    result = sentence.to_dict(tag_type=\"ner\")\n",
    "    if result.get('entities'):\n",
    "        labels = result.get('entities')[0].get('labels')\n",
    "        first_label = labels[0].value\n",
    "        entity = result.get('entities')[0].get('text')\n",
    "        return {\"Label\":first_label, \"PII\": entity}\n",
    "    else:\n",
    "        return {\"Label\": \"None\", \"PII\": \"\"}\n",
    "\n",
    "get_predictions(\n",
    "    \"Cup happen say join improve would. Oil PM special parent executive foot series term. Operation adult result decision prevent talk well. 640 Eddie Mission Apt. 272 New Kimberly, ME 38505\",\n",
    "    engine, model\n",
    ")"
   ]
  },
  {
   "cell_type": "code",
   "execution_count": 5,
   "metadata": {},
   "outputs": [
    {
     "output_type": "error",
     "ename": "AttributeError",
     "evalue": "'list' object has no attribute 'to_excel'",
     "traceback": [
      "\u001b[1;31m---------------------------------------------------------------------------\u001b[0m",
      "\u001b[1;31mAttributeError\u001b[0m                            Traceback (most recent call last)",
      "\u001b[1;32m<ipython-input-5-963e415e2a6b>\u001b[0m in \u001b[0;36m<module>\u001b[1;34m\u001b[0m\n\u001b[0;32m      7\u001b[0m     \u001b[0mpredictions\u001b[0m\u001b[1;33m.\u001b[0m\u001b[0mappend\u001b[0m\u001b[1;33m(\u001b[0m\u001b[0mpred\u001b[0m\u001b[1;33m)\u001b[0m\u001b[1;33m\u001b[0m\u001b[1;33m\u001b[0m\u001b[0m\n\u001b[0;32m      8\u001b[0m \u001b[1;33m\u001b[0m\u001b[0m\n\u001b[1;32m----> 9\u001b[1;33m \u001b[0mpredictions\u001b[0m\u001b[1;33m.\u001b[0m\u001b[0mto_excel\u001b[0m\u001b[1;33m(\u001b[0m\u001b[1;34m\"PII_Predictions.xlsx\"\u001b[0m\u001b[1;33m)\u001b[0m\u001b[1;33m\u001b[0m\u001b[1;33m\u001b[0m\u001b[0m\n\u001b[0m",
      "\u001b[1;31mAttributeError\u001b[0m: 'list' object has no attribute 'to_excel'"
     ]
    }
   ],
   "source": [
    "# perform inference and save result\n",
    "predictions = []\n",
    "for index, row in eval_data.iterrows():\n",
    "    pred = get_predictions(row['Text'], engine, model)\n",
    "    pred['Text'] = row['Text']\n",
    "    predictions.append(pred)"
   ]
  },
  {
   "cell_type": "code",
   "execution_count": 9,
   "metadata": {},
   "outputs": [],
   "source": [
    "pd.DataFrame(predictions).to_excel(\"../data/PII_Predictions.xlsx\", columns=['Text','Label','PII'])"
   ]
  },
  {
   "cell_type": "code",
   "execution_count": 8,
   "metadata": {},
   "outputs": [
    {
     "output_type": "stream",
     "name": "stdout",
     "text": [
      "{'text': 'Traditional while report few southern world. Measure school significant since face think total. ppp +1-321-677-1018x127 hhh Water radio reflect against admit.', 'labels': [], 'entities': [{'text': '+', 'start_pos': 100, 'end_pos': 101, 'labels': [Phone_number (0.8826)]}, {'text': '1-321-677-1018x127', 'start_pos': 101, 'end_pos': 119, 'labels': [Phone_number (0.9957)]}]}\n"
     ]
    }
   ],
   "source": [
    "# A simple inference would look something like this\n",
    "text = \"Traditional while report few southern world. Measure school significant since face think total. +1-321-677-1018x127 Water radio reflect against admit.\"\n",
    "sentence = Sentence(engine.pin_text(text))\n",
    "model.predict(sentence)\n",
    "result = sentence.to_dict(tag_type=\"ner\")\n",
    "print(result)"
   ]
  }
 ],
 "metadata": {
  "kernelspec": {
   "name": "python3",
   "display_name": "Python 3.8.5 64-bit ('ner': conda)",
   "metadata": {
    "interpreter": {
     "hash": "c9e9e9c2c630163d1306c3642fc8a6e53d34dc83778d6517d9e34b96a0c61c48"
    }
   }
  },
  "language_info": {
   "codemirror_mode": {
    "name": "ipython",
    "version": 3
   },
   "file_extension": ".py",
   "mimetype": "text/x-python",
   "name": "python",
   "nbconvert_exporter": "python",
   "pygments_lexer": "ipython3",
   "version": "3.8.5-final"
  }
 },
 "nbformat": 4,
 "nbformat_minor": 5
}