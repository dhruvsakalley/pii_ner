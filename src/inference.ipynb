{
 "cells": [
  {
   "source": [
    "## Inference - PII NER\n",
    "\n",
    "Eval data provided needs to be tagged and exported into an excel file.\n",
    "Notes:\n",
    "- Apt. xxx patterns seem to be confused with plates, can be easily fixed by adding to training data\n",
    "- Some Phone_number labels are identified as Address, we might have imbalanced the classes by adding too much fake data, maybe next iteration reduce the volume of addresses or add some data for phone numbers."
   ],
   "cell_type": "markdown",
   "metadata": {}
  },
  {
   "cell_type": "code",
   "execution_count": 1,
   "id": "dried-wagner",
   "metadata": {},
   "outputs": [],
   "source": [
    "# imports\n",
    "import pandas as pd\n",
    "import numpy as np\n",
    "\n",
    "# local files\n",
    "import rules\n",
    "import preprocess\n",
    "import datagen\n",
    "\n",
    "from flair.data import Sentence\n",
    "from flair.models import SequenceTagger"
   ]
  },
  {
   "cell_type": "code",
   "execution_count": 2,
   "metadata": {},
   "outputs": [
    {
     "output_type": "stream",
     "name": "stdout",
     "text": [
      "2021-02-01 14:55:57,963 loading file ../model/taggers/pii-ner-v1/final-model.pt\n"
     ]
    }
   ],
   "source": [
    "# load the trained model\n",
    "model = SequenceTagger.load('../model/taggers/pii-ner-v1/final-model.pt')\n",
    "\n",
    "# load the rules engine\n",
    "engine = rules.RulesEngine()"
   ]
  },
  {
   "cell_type": "code",
   "execution_count": 3,
   "metadata": {},
   "outputs": [
    {
     "output_type": "execute_result",
     "data": {
      "text/plain": [
       "{'tagged_sentence': 'Accept ready address firm continue phone camera. Discussion party party one. Worker voice foreign general everything yeah travel. Experience ppppp +1-821-995-3406x094 hhhhh through somebody benefit.',\n",
       " 'label': 'Phone_number',\n",
       " 'entity': '1-821-995-3406x094',\n",
       " 'confidence': 0.9986434578895569}"
      ]
     },
     "metadata": {},
     "execution_count": 3
    }
   ],
   "source": [
    "# Helper function for getting the predictions\n",
    "\n",
    "def get_predictions(text, rules_engine, model):\n",
    "    '''\n",
    "    In case of multiple entities, this function return the entity with\n",
    "    greatest confidence\n",
    "    '''\n",
    "    # Preprocess text by pinning known patterns\n",
    "    text = rules_engine.pin_text(text)\n",
    "    sentence = Sentence(text)\n",
    "    model.predict(sentence)\n",
    "    result = sentence.to_dict(tag_type=\"ner\")\n",
    "    entities = [\n",
    "        {\n",
    "            \"tagged_sentence\": result.get('text'),\n",
    "            \"label\": e.get('labels')[0].value,\n",
    "            \"entity\": e.get('text'),\n",
    "            \"confidence\": e.get('labels')[0].score\n",
    "        }\n",
    "        for e in result.get('entities')]\n",
    "    \n",
    "    # Sort entities in ascending order with last entity being the highest confidence\n",
    "    entities = sorted(entities, key=lambda c: c['confidence'])\n",
    "\n",
    "    if entities:\n",
    "        # Take last\n",
    "        return entities[-1]\n",
    "    else:\n",
    "        # Label = None\n",
    "        return {\n",
    "            \"label\": \"None\", \"entity\": \"\", \n",
    "            \"confidence\": 0.0 , \"tagged_sentence\":result.get('text')\n",
    "        }\n",
    "\n",
    "# Example invocation\n",
    "get_predictions(\n",
    "    \"Accept ready address firm continue phone camera. Discussion party party one. Worker voice foreign general everything yeah travel. Experience +1-821-995-3406x094 through somebody benefit.\",\n",
    "    engine, model\n",
    ")"
   ]
  },
  {
   "cell_type": "code",
   "execution_count": 4,
   "metadata": {},
   "outputs": [
    {
     "output_type": "execute_result",
     "data": {
      "text/plain": [
       "                                                Text  Label  PII\n",
       "0  Term although process suddenly parent. Poor go...    NaN  NaN\n",
       "1  356 Collins Highway New Kathleen, NM 10160 Rem...    NaN  NaN\n",
       "2  Appear job opportunity job. Piece 405 Callahan...    NaN  NaN\n",
       "3  During half leave simple west lose piece 859 D...    NaN  NaN\n",
       "4  Peace when Apt. 910 enter left speak agree. Le...    NaN  NaN"
      ],
      "text/html": "<div>\n<style scoped>\n    .dataframe tbody tr th:only-of-type {\n        vertical-align: middle;\n    }\n\n    .dataframe tbody tr th {\n        vertical-align: top;\n    }\n\n    .dataframe thead th {\n        text-align: right;\n    }\n</style>\n<table border=\"1\" class=\"dataframe\">\n  <thead>\n    <tr style=\"text-align: right;\">\n      <th></th>\n      <th>Text</th>\n      <th>Label</th>\n      <th>PII</th>\n    </tr>\n  </thead>\n  <tbody>\n    <tr>\n      <th>0</th>\n      <td>Term although process suddenly parent. Poor go...</td>\n      <td>NaN</td>\n      <td>NaN</td>\n    </tr>\n    <tr>\n      <th>1</th>\n      <td>356 Collins Highway New Kathleen, NM 10160 Rem...</td>\n      <td>NaN</td>\n      <td>NaN</td>\n    </tr>\n    <tr>\n      <th>2</th>\n      <td>Appear job opportunity job. Piece 405 Callahan...</td>\n      <td>NaN</td>\n      <td>NaN</td>\n    </tr>\n    <tr>\n      <th>3</th>\n      <td>During half leave simple west lose piece 859 D...</td>\n      <td>NaN</td>\n      <td>NaN</td>\n    </tr>\n    <tr>\n      <th>4</th>\n      <td>Peace when Apt. 910 enter left speak agree. Le...</td>\n      <td>NaN</td>\n      <td>NaN</td>\n    </tr>\n  </tbody>\n</table>\n</div>"
     },
     "metadata": {},
     "execution_count": 4
    }
   ],
   "source": [
    "# Load the eval data\n",
    "eval_data = pd.read_excel(\"../data/PII_Train_Large_Data_Test_Data.xlsx\",sheet_name=\"PII Test Data - PII Test Data\", skiprows=1, index_col=None, na_values=['NA'], usecols = \"A,B,C\")\n",
    "eval_data.head()"
   ]
  },
  {
   "cell_type": "code",
   "execution_count": null,
   "metadata": {},
   "outputs": [],
   "source": [
    "# perform inference and save result\n",
    "predictions = []\n",
    "for index, row in eval_data.iterrows():\n",
    "    pred = get_predictions(row['Text'], engine, model)\n",
    "    pred['Text'] = row['Text']\n",
    "    predictions.append(\n",
    "        {\n",
    "            \"Label\": pred['label'],\n",
    "            \"PII\": pred['entity']\n",
    "        })"
   ]
  },
  {
   "cell_type": "code",
   "execution_count": null,
   "metadata": {},
   "outputs": [],
   "source": [
    "pd.DataFrame(predictions).to_excel(\"../data/PII_Predictions_v1.xlsx\", columns=['Text','Label','PII'])"
   ]
  }
 ],
 "metadata": {
  "kernelspec": {
   "name": "python3",
   "display_name": "Python 3.8.5 64-bit ('ner': conda)",
   "metadata": {
    "interpreter": {
     "hash": "c9e9e9c2c630163d1306c3642fc8a6e53d34dc83778d6517d9e34b96a0c61c48"
    }
   }
  },
  "language_info": {
   "codemirror_mode": {
    "name": "ipython",
    "version": 3
   },
   "file_extension": ".py",
   "mimetype": "text/x-python",
   "name": "python",
   "nbconvert_exporter": "python",
   "pygments_lexer": "ipython3",
   "version": "3.8.5-final"
  }
 },
 "nbformat": 4,
 "nbformat_minor": 5
}